{
 "cells": [
  {
   "cell_type": "markdown",
   "metadata": {},
   "source": [
    "# Using Integer Linear Programming for Graph Layout\n",
    "One difficult problem in data visualization is graph layout. Graph layout techniques have been extensively studied and numerous academic papers have been published on the subject. Some of the popular papers were authored by Sugiyama and Gansner. An old, but still quite popular tool for laying out graphs is GraphViz. A newer tool developed by Kiel University is ELK (Eclipse Layout Kernel). One of the most popular layout techniques for directed graphs is the layered approach. There are several variations but the overall concept is to assign the nodes layers such that as many edges as possible are pointing downstream. After the nodes are assigned layers, their positions within the layer are swapped to minimize edge crossings usually by moving them toward nodes they are connected to. All of these techniques are designed to minimize edge length, edge crossings, and backward edges and total graph area.\n",
    "\n",
    "Directed graphs in this context means that we have a set of nodes and a set of edges that point from one node source to one node destination. Some of these types of graphs also have node ports that edges connect to. Sometimes the port positions have a fixed position on the node, sometimes the ports are movable or swappable. Some of these types of graphs support hyper edges which are edges with zero or more sources and zero or more destinations(instead of one to one). Usually the preferred edge routing method is orthogonal, where the edges can only travel horizontally or vertically. Some implementations also support bezier curves.\n",
    "\n",
    "Layered graph layout rely edges to be directed in a particular direction of flow (left to right or top to bottom). While some of the tools (like GraphViz) utilizing these techniques support fixed port positions, when ports are on the wrong side of the flow direction, the graph layout can be very poor. Also, additional structures in the graph such as subgraphs or additional degrees of freedom (port swapping, node rotation) can make the layout algorithms even more complicated to implement.\n",
    "\n",
    "The layouts produced from the layered approach are usually excellent but there are some domains whose graph properties make them bad candidates for the layered approach. For instance, analog schematics have undirected edges, although there is a convention that power and ground nets are oriented vertically and signal nets are oriented horizontally. Analog schematic symbols can also be rotated.\n",
    "\n",
    "It is very challenging to write a layout engine that is capable of handling graphs from domains with all of these different properties and capabilities and as the code complexity rises, it becomes more unwieldy to add new features.\n",
    "\n",
    "This notebook demonstrates how we can simplify layout algorithms by formulating our layout rules mathematically as a set of constraints and a cost function and allowing an off-the-shelf ILP solver to efficiently find the optimal solution. It also demonstrates a graph whose edges are only directed by virtue of which side of the nodes they are connected to.\n",
    "\n",
    "In this example, we will by using Google's ortools constraint solver, but the process is pretty similar for most solvers.\n",
    "\n",
    "Finding a solution in this manner is inefficient but simple to implement and maintain."
   ]
  },
  {
   "cell_type": "code",
   "execution_count": 1,
   "metadata": {},
   "outputs": [],
   "source": [
    "# python3 built-in\n",
    "from collections import namedtuple\n",
    "import xml.etree.ElementTree as ET\n",
    "from enum import Enum\n",
    "from dataclasses import dataclass\n",
    "\n",
    "# 3rd party dependencies\n",
    "from IPython.display import SVG, display\n",
    "import z3"
   ]
  },
  {
   "cell_type": "markdown",
   "metadata": {},
   "source": [
    "Here we define some simple objects to encode our information. We use `Position` both for logical position (grid positioning) as well as visualization position (svg drawing units). We use `Dimension` for widths and heights. We use `Side` for defining which side of the node a port is locked to."
   ]
  },
  {
   "cell_type": "code",
   "execution_count": 2,
   "metadata": {},
   "outputs": [],
   "source": [
    "Dimension = namedtuple(\"Dim\", \"width height\")\n",
    "\n",
    "@dataclass(frozen=True)\n",
    "class Position:\n",
    "    x : int\n",
    "    y : int\n",
    "    \n",
    "    def __add__(self, other):\n",
    "        return Position(self.x + other.x, self.y + other.y)\n",
    "    \n",
    "    def __sub__(self, other):\n",
    "        return Position(self.x - other.x, self.y - other.y)\n",
    "    \n",
    "    def scale(self, margin: Dimension, spacing: Dimension):\n",
    "        return Position(\n",
    "            self.x * spacing.width + margin.width,\n",
    "            self.y * spacing.height + margin.height\n",
    "        )\n",
    "    \n",
    "    def within(self, dom:Dimension):\n",
    "        if self.x < 0 or self.y < 0:\n",
    "            return False\n",
    "        if self.x >= dom.width or self.y >= dom.height:\n",
    "            return False\n",
    "        return True\n",
    "        \n",
    "\n",
    "\n",
    "# defines which side of a node an edge should connect to\n",
    "class Side(Enum):\n",
    "    TOP = 1\n",
    "    BOTTOM = 2\n",
    "    LEFT = 3\n",
    "    RIGHT = 4\n",
    "    NONE = 5\n",
    "    \n",
    "opposites = {Side.TOP:Side.BOTTOM, Side.BOTTOM:Side.TOP, Side.LEFT:Side.RIGHT, Side.NONE:Side.NONE}\n",
    "rotate = {Side.LEFT:Side.TOP, Side.RIGHT:Side.BOTTOM, Side.NONE:Side.NONE}"
   ]
  },
  {
   "cell_type": "markdown",
   "metadata": {},
   "source": [
    "Here we define an example data set of a handful of nodes and edges between them. The edges are encoded as directed, but switching source and destination doesn't change the behavior or appearance of the edge."
   ]
  },
  {
   "cell_type": "code",
   "execution_count": 3,
   "metadata": {},
   "outputs": [],
   "source": [
    "# node positions must be within the domain\n",
    "domain = Dimension(6, 3)\n",
    "# enumerate some nodes\n",
    "nodes = {\n",
    "    'A':{'ports':[{'side':Side.RIGHT}]},\n",
    "    'B':{'ports':[{'side':Side.LEFT },{'side':Side.RIGHT}]},\n",
    "    'C':{'ports':[{'side':Side.LEFT}]},\n",
    "    'D':{'ports':[{'side':Side.LEFT}]}\n",
    "}\n",
    "\n",
    "# enumerate some edges\n",
    "edges = [\n",
    "    {'source_node':'A', 'source_port_index':0, 'dest_node':'B', 'dest_port_index':0},\n",
    "    {'source_node':'A', 'source_port_index':0, 'dest_node':'C', 'dest_port_index':0},\n",
    "    {'source_node':'A', 'source_port_index':0, 'dest_node':'D', 'dest_port_index':0}\n",
    "]"
   ]
  },
  {
   "cell_type": "markdown",
   "metadata": {},
   "source": [
    "If the input dataset has edges following ports into a cycle, then we can tag edges as \"reversed\" to break the cycle. This means that for purposes of node position constraints, it is backward, but in all other respects it is normal.\n",
    "\n",
    "If the input dataset has edges that connect two ports on the same side, then we can tag that edge as \"removed\". This means that there should be no node position constraints due to this edge. \"removed\" edges also have a modified cost function."
   ]
  },
  {
   "cell_type": "code",
   "execution_count": 4,
   "metadata": {},
   "outputs": [],
   "source": [
    "# TODO: Eliminate Cycles"
   ]
  },
  {
   "cell_type": "markdown",
   "metadata": {},
   "source": [
    "Here we declare our variables for our solver. You can collapse x and y into a single variable with the domain of width times height, but it's more readable for them to be separate.\n",
    "\n",
    "We also define a variable for our objective, which in case is the value of our cost function."
   ]
  },
  {
   "cell_type": "code",
   "execution_count": 5,
   "metadata": {},
   "outputs": [],
   "source": [
    "solver = z3.Optimize()\n",
    "# create all variables\n",
    "for nodeName in nodes.keys():\n",
    "    x = z3.Int(nodeName+'.x')\n",
    "    nodes[nodeName]['x'] = x\n",
    "    solver.add(x >= 0)\n",
    "    solver.add(x < domain.width)\n",
    "    y = z3.Int(nodeName+'.y')\n",
    "    nodes[nodeName]['y'] = y\n",
    "    solver.add(y >= 0)\n",
    "    solver.add(y < domain.height)\n",
    "allvars = [v['x'] for k,v in nodes.items()] + [v['y'] for k,v in nodes.items()]\n",
    "\n",
    "# define our objective variable\n",
    "obj_expr = z3.Int('objective')\n"
   ]
  },
  {
   "cell_type": "markdown",
   "metadata": {},
   "source": [
    "This constraint is simple. We constrain our solution to ones where no two nodes occupy the same position."
   ]
  },
  {
   "cell_type": "code",
   "execution_count": 6,
   "metadata": {},
   "outputs": [],
   "source": [
    "# Constraint 1: no two nodes can occupy the same position\n",
    "solver.add(z3.Distinct([v['x'] + v['y'] * domain.width for k,v in nodes.items()]))"
   ]
  },
  {
   "cell_type": "markdown",
   "metadata": {},
   "source": [
    "Here we add two constraints for each side on the edge. The side of the port imposes the direction of the constraint. We also sum up the cost function for each edge. This cost function is a variation of the Manhattan distance that has a higher penalty for long edges. This will push us toward solutions that distribute nodes more equally along long paths.\n",
    "\n",
    "We also add the sum of all node positions to the objective function to incentivize solutions that are compact to the top left corner"
   ]
  },
  {
   "cell_type": "code",
   "execution_count": 7,
   "metadata": {},
   "outputs": [],
   "source": [
    "def constrainEdge(fromnode, tonode, side):\n",
    "    if side == Side.TOP:\n",
    "        solver.add(fromnode['y'] > tonode['y'])\n",
    "    elif side == Side.BOTTOM:\n",
    "        solver.add(fromnode['y'] < tonode['y'])\n",
    "    elif side == Side.LEFT:\n",
    "        solver.add(fromnode['x'] > tonode['x'])\n",
    "    else:\n",
    "        solver.add(fromnode['x'] < tonode['x'])\n",
    "\n",
    "def zabs(x):\n",
    "    return z3.If(x >= 0,x,-x)\n",
    "\n",
    "# collect the ports and sides for each edge\n",
    "# and constrain the node positions and\n",
    "# build up the cost function\n",
    "edge_costs = []\n",
    "for e in edges:\n",
    "    snode = nodes[e['source_node']]\n",
    "    dnode = nodes[e['dest_node']]\n",
    "    sside = snode['ports'][e['source_port_index']]['side']\n",
    "    constrainEdge(snode, dnode, sside)\n",
    "    dside = dnode['ports'][e['dest_port_index']]['side']\n",
    "    constrainEdge(dnode, snode, dside)\n",
    "    edge_costs.append(2 * zabs(snode['x'] - dnode['x']) + 2 * zabs(snode['y'] - dnode['y']))\n",
    "\n",
    "# finish defining the objectivie function: minimize cost\n",
    "solver.add(obj_expr == z3.Sum(edge_costs) + z3.Sum([x*x for x in allvars]))\n",
    "objective = solver.minimize(obj_expr)\n"
   ]
  },
  {
   "cell_type": "markdown",
   "metadata": {},
   "source": [
    "Here we collect the best solution the solver can find"
   ]
  },
  {
   "cell_type": "code",
   "execution_count": 8,
   "metadata": {},
   "outputs": [
    {
     "data": {
      "text/plain": [
       "{'D.y': 1,\n",
       " 'D.x': 1,\n",
       " 'C.y': 0,\n",
       " 'C.x': 1,\n",
       " 'B.y': 0,\n",
       " 'B.x': 2,\n",
       " 'A.y': 0,\n",
       " 'A.x': 0,\n",
       " 'objective': 17}"
      ]
     },
     "execution_count": 8,
     "metadata": {},
     "output_type": "execute_result"
    }
   ],
   "source": [
    "solver.check()\n",
    "solution = solver.model()\n",
    "best_solution = {str(s):solution[s].as_long() for s in solution}\n",
    "best_solution"
   ]
  },
  {
   "cell_type": "code",
   "execution_count": 9,
   "metadata": {},
   "outputs": [],
   "source": [
    "# put the solution back into our nodes structure\n",
    "for node_name, n in nodes.items():\n",
    "    n['pos'] = Position(best_solution[node_name+'.x'], best_solution[node_name+'.y'])"
   ]
  },
  {
   "cell_type": "code",
   "execution_count": 10,
   "metadata": {},
   "outputs": [],
   "source": [
    "class SvgNodePortGraph:\n",
    "    \"\"\"\n",
    "    draws nodes and edges to notebook using SVG\n",
    "    nodes are just names and Positions\n",
    "    edges are just Positions and Sides\n",
    "    \"\"\"\n",
    "    \n",
    "    # The spacing between the outermost nodes and the edge of the SVG drawing area\n",
    "    margin = Dimension(20, 20)\n",
    "    \n",
    "    # distance from top-left corner to top-left corner of two nodes\n",
    "    spacing = Dimension(60, 60)\n",
    "    \n",
    "    # node size\n",
    "    noded = Dimension(30, 30)\n",
    "    half_noded = Position(15, 15)\n",
    "    \n",
    "    text_offset = Position(15, -2)\n",
    "    \n",
    "    # size of the svg drawing area\n",
    "    svg_dims = Dimension(\n",
    "        width=domain.width * spacing.width + 2 * margin.width,\n",
    "        height=domain.height * spacing.height + 2 * margin.height)\n",
    "    \n",
    "    node_sides = {\n",
    "        Side.TOP: Position(noded.width/2, 0),\n",
    "        Side.BOTTOM: Position(noded.width/2, noded.height),\n",
    "        Side.LEFT: Position(0, noded.height/2),\n",
    "        Side.RIGHT: Position(noded.width, noded.height/2)\n",
    "    }\n",
    "    \n",
    "    def __init__(self, nodes, edges, grid=False, highlights=[], highlight_color='black'):\n",
    "        self.svg = ET.Element(\n",
    "            'svg',\n",
    "            xmlns=\"http://www.w3.org/2000/svg\",\n",
    "            version=\"1.1\",\n",
    "            height=\"%s\" % self.svg_dims.height,\n",
    "            width=\"%s\" % self.svg_dims.width)\n",
    "        style = ET.SubElement(self.svg,\"style\")\n",
    "        style.text = \"rect {fill: gray; stroke: black;} line {stroke: black;}\"\n",
    "        for k,v in nodes.items():\n",
    "            self.drawbox(k, v['pos'])\n",
    "\n",
    "        for e in edges:\n",
    "            self.drawedge(e)\n",
    "        \n",
    "        if grid:\n",
    "            self.drawgrid()\n",
    "        \n",
    "        for pos in highlights:\n",
    "            self.draw_route_region(pos, highlight_color)\n",
    "    \n",
    "        self.display()\n",
    "        \n",
    "    def drawbox(self, name, pos):\n",
    "        \"\"\"adds a new node to the graph\"\"\"\n",
    "        npos = pos.scale(self.margin, self.spacing)\n",
    "        tpos = npos + self.text_offset\n",
    "        ET.SubElement(\n",
    "            self.svg,\n",
    "            \"rect\",\n",
    "            width=str(self.noded.width),\n",
    "            height=str(self.noded.height),\n",
    "            x=str(npos.x),\n",
    "            y=str(npos.y))\n",
    "        t = ET.SubElement(self.svg, \"text\", x=str(tpos.x), y=str(tpos.y))\n",
    "        t.set(\"text-anchor\",\"middle\")\n",
    "        t.text = name\n",
    "    \n",
    "    def draw_route_region(self, pos, color):\n",
    "        npos = pos.scale(self.margin, self.noded)\n",
    "        r = ET.SubElement(\n",
    "            self.svg,\n",
    "            \"rect\",\n",
    "            width=str(self.noded.width),\n",
    "            height=str(self.noded.height),\n",
    "            x=str(npos.x),\n",
    "            y=str(npos.y),\n",
    "            style='fill:' + color\n",
    "        )\n",
    "        r.set('fill-opacity','0.5')\n",
    "    \n",
    "    def drawedge(self, e, stroke='black'):\n",
    "        \"\"\" adds a new edge to the graph \"\"\"\n",
    "        snode = nodes[e['source_node']]\n",
    "        sside = snode['ports'][e['source_port_index']]['side']\n",
    "        source_pos = snode['pos'].scale(self.margin, self.spacing) + self.node_sides[sside]\n",
    "        dnode = nodes[e['dest_node']]\n",
    "        dside = dnode['ports'][e['dest_port_index']]['side']\n",
    "        dest_pos = dnode['pos'].scale(self.margin, self.spacing) + self.node_sides[dside]\n",
    "        chan_index = 0\n",
    "        if 'chans' in e:\n",
    "            chans = e['chans']\n",
    "        else:\n",
    "            chans = [0] * 20\n",
    "        if 'bends' in e:\n",
    "            prev = source_pos\n",
    "            print(e['bends'], chans)\n",
    "            for bend in e['bends']:\n",
    "                bpos = bend.scale(self.margin, self.noded) + self.half_noded\n",
    "                if prev.x == bpos.x:\n",
    "                    scoot = Position(chans[chan_index] * 5, 0)\n",
    "                else:\n",
    "                    scoot = Position(0, chans[chan_index] * 5)\n",
    "                prev = prev + scoot\n",
    "                bpos = bpos + scoot\n",
    "                ET.SubElement(\n",
    "                    self.svg,\n",
    "                    'line',\n",
    "                    x1=str(prev.x),\n",
    "                    y1=str(prev.y),\n",
    "                    x2=str(bpos.x),\n",
    "                    y2=str(bpos.y))\n",
    "                chan_index += 1\n",
    "                prev = bpos\n",
    "                source_pos = prev\n",
    "        if source_pos.x == dest_pos.x:\n",
    "            scoot = Position(chans[chan_index] * 5, 0)\n",
    "        else:\n",
    "            scoot = Position(0,chans[chan_index] * 5)\n",
    "        source_pos = source_pos + scoot\n",
    "        dest_pos = dest_pos + scoot\n",
    "        ET.SubElement(\n",
    "            self.svg,\n",
    "            'line',\n",
    "            x1=str(source_pos.x),\n",
    "            y1=str(source_pos.y),\n",
    "            x2=str(dest_pos.x),\n",
    "            y2=str(dest_pos.y))\n",
    "        \n",
    "        \n",
    "    \n",
    "    def drawgrid(self):\n",
    "        for x in range(domain.width * 2):\n",
    "            start = Position(x, 0).scale(self.margin, self.noded)\n",
    "            end = Position(x, domain.height * 2).scale(self.margin, self.noded)\n",
    "            l = ET.SubElement(\n",
    "                self.svg,\n",
    "                \"line\",\n",
    "                x1=str(start.x),\n",
    "                y1=str(start.y - self.spacing.height / 4),\n",
    "                x2=str(end.x),\n",
    "                y2=str(end.y - self.spacing.height / 4)\n",
    "            )\n",
    "            l.set('stroke-dasharray', '4 8')\n",
    "            \n",
    "        for y in range(domain.height * 2):\n",
    "            start = Position(0, y).scale(self.margin, self.noded)\n",
    "            end = Position(domain.width * 2, y).scale(self.margin, self.noded)\n",
    "            l = ET.SubElement(\n",
    "                self.svg,\n",
    "                \"line\",\n",
    "                x1=str(start.x - self.spacing.width / 4),\n",
    "                y1=str(start.y),\n",
    "                x2=str(end.x - self.spacing.width / 4),\n",
    "                y2=str(end.y)\n",
    "            )\n",
    "            l.set('stroke-dasharray', '4 8')\n",
    "            \n",
    "    \n",
    "    def display(self):\n",
    "        \"\"\" displays the graph on the notebook \"\"\"\n",
    "        display(SVG(ET.tostring(self.svg)))\n"
   ]
  },
  {
   "cell_type": "code",
   "execution_count": 11,
   "metadata": {},
   "outputs": [
    {
     "data": {
      "image/svg+xml": [
       "<svg height=\"220\" version=\"1.1\" width=\"400\" xmlns=\"http://www.w3.org/2000/svg\"><style>rect {fill: gray; stroke: black;} line {stroke: black;}</style><rect height=\"30\" width=\"30\" x=\"20\" y=\"20\"/><text text-anchor=\"middle\" x=\"35\" y=\"18\">A</text><rect height=\"30\" width=\"30\" x=\"140\" y=\"20\"/><text text-anchor=\"middle\" x=\"155\" y=\"18\">B</text><rect height=\"30\" width=\"30\" x=\"80\" y=\"20\"/><text text-anchor=\"middle\" x=\"95\" y=\"18\">C</text><rect height=\"30\" width=\"30\" x=\"80\" y=\"80\"/><text text-anchor=\"middle\" x=\"95\" y=\"78\">D</text><line x1=\"50\" x2=\"140\" y1=\"35.0\" y2=\"35.0\"/><line x1=\"50\" x2=\"80\" y1=\"35.0\" y2=\"35.0\"/><line x1=\"50\" x2=\"80\" y1=\"35.0\" y2=\"95.0\"/></svg>"
      ],
      "text/plain": [
       "<IPython.core.display.SVG object>"
      ]
     },
     "metadata": {},
     "output_type": "display_data"
    },
    {
     "data": {
      "text/plain": [
       "<__main__.SvgNodePortGraph at 0x1080be400>"
      ]
     },
     "execution_count": 11,
     "metadata": {},
     "output_type": "execute_result"
    }
   ],
   "source": [
    "SvgNodePortGraph(nodes, edges)\n"
   ]
  },
  {
   "cell_type": "markdown",
   "metadata": {},
   "source": [
    "So at this point the nodes are placed to minimize edge length, but the edges aren't routed orthogonally and even cross in front of nodes. The sugiyama method would involve inserting dummy nodes so that all edges only cross one row, but our graph has two directions of flow, so we will need to determine the best path through the gaps and empty spaces on the grid. Z3 is a very inefficient tools for path-finding so we'll just use A* to route each of our edges."
   ]
  },
  {
   "cell_type": "code",
   "execution_count": 12,
   "metadata": {},
   "outputs": [
    {
     "data": {
      "image/svg+xml": [
       "<svg height=\"220\" version=\"1.1\" width=\"400\" xmlns=\"http://www.w3.org/2000/svg\"><style>rect {fill: gray; stroke: black;} line {stroke: black;}</style><rect height=\"30\" width=\"30\" x=\"20\" y=\"20\"/><text text-anchor=\"middle\" x=\"35\" y=\"18\">A</text><rect height=\"30\" width=\"30\" x=\"140\" y=\"20\"/><text text-anchor=\"middle\" x=\"155\" y=\"18\">B</text><rect height=\"30\" width=\"30\" x=\"80\" y=\"20\"/><text text-anchor=\"middle\" x=\"95\" y=\"18\">C</text><rect height=\"30\" width=\"30\" x=\"80\" y=\"80\"/><text text-anchor=\"middle\" x=\"95\" y=\"78\">D</text><line x1=\"50\" x2=\"140\" y1=\"35.0\" y2=\"35.0\"/><line x1=\"50\" x2=\"80\" y1=\"35.0\" y2=\"35.0\"/><line x1=\"50\" x2=\"80\" y1=\"35.0\" y2=\"95.0\"/><line stroke-dasharray=\"4 8\" x1=\"20\" x2=\"20\" y1=\"5.0\" y2=\"185.0\"/><line stroke-dasharray=\"4 8\" x1=\"50\" x2=\"50\" y1=\"5.0\" y2=\"185.0\"/><line stroke-dasharray=\"4 8\" x1=\"80\" x2=\"80\" y1=\"5.0\" y2=\"185.0\"/><line stroke-dasharray=\"4 8\" x1=\"110\" x2=\"110\" y1=\"5.0\" y2=\"185.0\"/><line stroke-dasharray=\"4 8\" x1=\"140\" x2=\"140\" y1=\"5.0\" y2=\"185.0\"/><line stroke-dasharray=\"4 8\" x1=\"170\" x2=\"170\" y1=\"5.0\" y2=\"185.0\"/><line stroke-dasharray=\"4 8\" x1=\"200\" x2=\"200\" y1=\"5.0\" y2=\"185.0\"/><line stroke-dasharray=\"4 8\" x1=\"230\" x2=\"230\" y1=\"5.0\" y2=\"185.0\"/><line stroke-dasharray=\"4 8\" x1=\"260\" x2=\"260\" y1=\"5.0\" y2=\"185.0\"/><line stroke-dasharray=\"4 8\" x1=\"290\" x2=\"290\" y1=\"5.0\" y2=\"185.0\"/><line stroke-dasharray=\"4 8\" x1=\"320\" x2=\"320\" y1=\"5.0\" y2=\"185.0\"/><line stroke-dasharray=\"4 8\" x1=\"350\" x2=\"350\" y1=\"5.0\" y2=\"185.0\"/><line stroke-dasharray=\"4 8\" x1=\"5.0\" x2=\"365.0\" y1=\"20\" y2=\"20\"/><line stroke-dasharray=\"4 8\" x1=\"5.0\" x2=\"365.0\" y1=\"50\" y2=\"50\"/><line stroke-dasharray=\"4 8\" x1=\"5.0\" x2=\"365.0\" y1=\"80\" y2=\"80\"/><line stroke-dasharray=\"4 8\" x1=\"5.0\" x2=\"365.0\" y1=\"110\" y2=\"110\"/><line stroke-dasharray=\"4 8\" x1=\"5.0\" x2=\"365.0\" y1=\"140\" y2=\"140\"/><line stroke-dasharray=\"4 8\" x1=\"5.0\" x2=\"365.0\" y1=\"170\" y2=\"170\"/></svg>"
      ],
      "text/plain": [
       "<IPython.core.display.SVG object>"
      ]
     },
     "metadata": {},
     "output_type": "display_data"
    },
    {
     "data": {
      "text/plain": [
       "<__main__.SvgNodePortGraph at 0x1099c3080>"
      ]
     },
     "execution_count": 12,
     "metadata": {},
     "output_type": "execute_result"
    }
   ],
   "source": [
    "SvgNodePortGraph(nodes, edges, grid=True)"
   ]
  },
  {
   "cell_type": "code",
   "execution_count": 13,
   "metadata": {},
   "outputs": [
    {
     "name": "stdout",
     "output_type": "stream",
     "text": [
      "[Position(x=1, y=0), Position(x=1, y=1), Position(x=3, y=1), Position(x=3, y=0)] [0, 0, 0, 0, 0, 0, 0, 0, 0, 0, 0, 0, 0, 0, 0, 0, 0, 0, 0, 0]\n",
      "[] [0, 0, 0, 0, 0, 0, 0, 0, 0, 0, 0, 0, 0, 0, 0, 0, 0, 0, 0, 0]\n",
      "[Position(x=1, y=0), Position(x=1, y=2)] [0, 0, 0, 0, 0, 0, 0, 0, 0, 0, 0, 0, 0, 0, 0, 0, 0, 0, 0, 0]\n"
     ]
    },
    {
     "data": {
      "image/svg+xml": [
       "<svg height=\"220\" version=\"1.1\" width=\"400\" xmlns=\"http://www.w3.org/2000/svg\"><style>rect {fill: gray; stroke: black;} line {stroke: black;}</style><rect height=\"30\" width=\"30\" x=\"20\" y=\"20\"/><text text-anchor=\"middle\" x=\"35\" y=\"18\">A</text><rect height=\"30\" width=\"30\" x=\"140\" y=\"20\"/><text text-anchor=\"middle\" x=\"155\" y=\"18\">B</text><rect height=\"30\" width=\"30\" x=\"80\" y=\"20\"/><text text-anchor=\"middle\" x=\"95\" y=\"18\">C</text><rect height=\"30\" width=\"30\" x=\"80\" y=\"80\"/><text text-anchor=\"middle\" x=\"95\" y=\"78\">D</text><line x1=\"50\" x2=\"65\" y1=\"35.0\" y2=\"35\"/><line x1=\"65\" x2=\"65\" y1=\"35\" y2=\"65\"/><line x1=\"65\" x2=\"125\" y1=\"65\" y2=\"65\"/><line x1=\"125\" x2=\"125\" y1=\"65\" y2=\"35\"/><line x1=\"125\" x2=\"140\" y1=\"35\" y2=\"35.0\"/><line x1=\"50\" x2=\"80\" y1=\"35.0\" y2=\"35.0\"/><line x1=\"50\" x2=\"65\" y1=\"35.0\" y2=\"35\"/><line x1=\"65\" x2=\"65\" y1=\"35\" y2=\"95\"/><line x1=\"65\" x2=\"80\" y1=\"95\" y2=\"95.0\"/></svg>"
      ],
      "text/plain": [
       "<IPython.core.display.SVG object>"
      ]
     },
     "metadata": {},
     "output_type": "display_data"
    },
    {
     "data": {
      "text/plain": [
       "<__main__.SvgNodePortGraph at 0x109a2aac8>"
      ]
     },
     "execution_count": 13,
     "metadata": {},
     "output_type": "execute_result"
    }
   ],
   "source": [
    "from collections import defaultdict\n",
    "\n",
    "obstructed = defaultdict(lambda : False)\n",
    "for n in nodes.values():\n",
    "    obstructed[n['pos'].scale(Dimension(0,0),Dimension(2,2))] = True\n",
    "\n",
    "adjustments = {\n",
    "    Side.TOP: Position(0, -1),\n",
    "    Side.BOTTOM: Position(0, 1),\n",
    "    Side.LEFT: Position(-1, 0),\n",
    "    Side.RIGHT: Position(1, 0)\n",
    "}\n",
    "\n",
    "def get_snode_pos(edge):\n",
    "    return nodes[edge['source_node']]['pos'].scale(Dimension(0,0),Dimension(2,2))\n",
    "\n",
    "def get_dnode_pos(edge):\n",
    "    return nodes[edge['dest_node']]['pos'].scale(Dimension(0,0),Dimension(2,2))\n",
    "\n",
    "def get_source_pos(edge):\n",
    "    snode = nodes[edge['source_node']]\n",
    "    sside = snode['ports'][edge['source_port_index']]['side']\n",
    "    return snode['pos'].scale(Dimension(0,0),Dimension(2,2)) + adjustments[sside]\n",
    "\n",
    "def get_dest_pos(edge):\n",
    "    dnode = nodes[edge['dest_node']]\n",
    "    dside = dnode['ports'][edge['dest_port_index']]['side']\n",
    "    return dnode['pos'].scale(Dimension(0,0),Dimension(2,2)) + adjustments[dside]\n",
    "\n",
    "def get_neighbors(pos):\n",
    "    for v in adjustments.values():\n",
    "        candidate = pos + v\n",
    "        if not candidate.within(Dimension(domain.width*2, domain.height*2)):\n",
    "            continue\n",
    "        if obstructed[candidate]:\n",
    "            continue\n",
    "        yield candidate\n",
    "\n",
    "def est_cost(source, dest):\n",
    "    return abs(source.x - dest.x) + abs(source.y - dest.y)\n",
    "\n",
    "def search_AStar(camefrom, start, end):\n",
    "    G = {} # movement cost from start to here\n",
    "    F = {} # estimated movement cost from here to end\n",
    "    G[start] = 0 \n",
    "    F[start] = est_cost(start, end)\n",
    "\n",
    "    closedVertices = set()\n",
    "    openVertices = set([start])\n",
    "    cameFrom = {start:camefrom}\n",
    "    while len(openVertices) > 0:\n",
    "        #Get the vertex in the open list with the lowest F score\n",
    "        current = None\n",
    "        currentFscore = None\n",
    "        for pos in openVertices:\n",
    "            if current is None or F[pos] < currentFscore:\n",
    "                currentFscore = F[pos]\n",
    "                current = pos\n",
    "        if current == end:\n",
    "            path = [current]\n",
    "            while current != start:\n",
    "                current = cameFrom[current]\n",
    "                path.append(current)\n",
    "            return path\n",
    "\n",
    "        openVertices.remove(current)\n",
    "        closedVertices.add(current)\n",
    "        # Update scores for vertices near the current position\n",
    "        for neighbour in get_neighbors(current):\n",
    "            if neighbour in closedVertices: \n",
    "                continue # We have already processed this node\n",
    "            turn = cameFrom[current]-current != current-neighbour\n",
    "            candidateG = G[current] + 1 if not turn else G[current] + 2\n",
    "            if neighbour not in openVertices:\n",
    "                openVertices.add(neighbour) #Discovered a new vertex\n",
    "            elif candidateG >= G[neighbour]:\n",
    "                continue # This G score is worse than previously found\n",
    "\n",
    "            #Adopt this G score\n",
    "            cameFrom[neighbour] = current\n",
    "            G[neighbour] = candidateG\n",
    "            H = est_cost(neighbour, end)\n",
    "            F[neighbour] = G[neighbour] + H\n",
    "\n",
    "def get_bends(path):\n",
    "    prev = path[0]\n",
    "    for i, p in enumerate(path[1:-1]):\n",
    "        pnext = path[i+2]\n",
    "        if p - prev != pnext - p:\n",
    "            yield p\n",
    "        prev = p\n",
    "\n",
    "for e in edges:\n",
    "    start = get_source_pos(e)\n",
    "    end = get_dest_pos(e)\n",
    "    path = [get_dnode_pos(e)] + search_AStar(get_snode_pos(e), start, end) + [get_snode_pos(e)]\n",
    "    path.reverse()\n",
    "    e['bends'] = [x for x in get_bends(path)]\n",
    "SvgNodePortGraph(nodes, edges)"
   ]
  },
  {
   "cell_type": "markdown",
   "metadata": {},
   "source": [
    "Now our edges are routed orthogonally, but we have unrelated edges on top of each other. So we'll need to push them into separate channels. "
   ]
  },
  {
   "cell_type": "code",
   "execution_count": 14,
   "metadata": {},
   "outputs": [
    {
     "data": {
      "text/plain": [
       "{'A.0=>B.0[3].chan': 0,\n",
       " 'A.0=>D.0[1].chan': 1,\n",
       " 'A.0=>D.0[0].chan': 1,\n",
       " 'A.0=>B.0[0].chan': 2,\n",
       " 'A.0=>C.0[0].chan': 0,\n",
       " 'A.0=>B.0[1].chan': 0,\n",
       " 'A.0=>D.0[2].chan': 0,\n",
       " 'A.0=>B.0[4].chan': 0,\n",
       " 'A.0=>B.0[2].chan': 0}"
      ]
     },
     "execution_count": 14,
     "metadata": {},
     "output_type": "execute_result"
    }
   ],
   "source": [
    "@dataclass\n",
    "class Segment:\n",
    "    dir1: Side\n",
    "    xmin: int\n",
    "    dir2: Side\n",
    "    xmax: int\n",
    "    name: str\n",
    "\n",
    "def get_dir(p1, p2):\n",
    "    if p2.y > p1.y:\n",
    "        return Side.BOTTOM\n",
    "    if p2.y < p1.y:\n",
    "        return Side.TOP\n",
    "    if p2.x > p1.x:\n",
    "        return Side.RIGHT\n",
    "    if p2.x < p1.x:\n",
    "        return Side.LEFT\n",
    "\n",
    "def get_segments(edge):\n",
    "    prev = get_snode_pos(edge)\n",
    "    sside = snode['ports'][e['source_port_index']]['side']\n",
    "    for bend in edge['bends']:\n",
    "        yield prev, bend, get_dir(prev, bend)\n",
    "        prev = bend\n",
    "    dpos = get_dnode_pos(edge)\n",
    "    yield prev, dpos, get_dir(prev, dpos)\n",
    "\n",
    "segs_by_row = defaultdict(list)\n",
    "segs_by_col = defaultdict(list)\n",
    "for edge in edges:\n",
    "    n = edge['source_node'] + '.'+str(edge['source_port_index']) +'=>'+edge['dest_node'] + '.'+str(edge['dest_port_index'])\n",
    "    segs = [x for x in get_segments(edge)]\n",
    "    for i, seg in enumerate(segs):\n",
    "        p1, p2, d = seg\n",
    "        prev_d = segs[i-1][2] if i>0 else Side.NONE\n",
    "        next_d = segs[i+1][2] if i+1<len(segs) else Side.NONE\n",
    "        if d == Side.RIGHT:\n",
    "            xmin = p1.x\n",
    "            xmax = p2.x\n",
    "            if i > 0:\n",
    "                d1 = opposites[prev_d]\n",
    "            else:\n",
    "                d1 = Side.NONE\n",
    "            if seg is not segs[-1]:\n",
    "                d2 = next_d\n",
    "            else:\n",
    "                d2 = Side.NONE\n",
    "            segs_by_row[p1.y].append(Segment(d1, xmin, d2, xmax, n+'['+str(i)+']'))\n",
    "        if d == Side.LEFT:\n",
    "            xmin = p2.x\n",
    "            xmax = p1.x\n",
    "            if i > 0:\n",
    "                d2 = opposites[prev_d]\n",
    "            else:\n",
    "                d2 = Side.NONE\n",
    "            if seg is not segs[-1]:\n",
    "                d1 = next_d\n",
    "            else:\n",
    "                d1 = Side.NONE\n",
    "            segs_by_row[p1.y].append(Segment(d1, xmin, d2, xmax, n+'['+str(i)+']'))\n",
    "        if d == Side.TOP:\n",
    "            xmin = p2.y\n",
    "            xmax = p1.y\n",
    "            if i>0:\n",
    "                d1 = opposites[rotate[prev_d]]\n",
    "            else:\n",
    "                d1 = Side.NONE\n",
    "            if seg is not segs[-1]:\n",
    "                d2 = rotate[next_d]\n",
    "            else:\n",
    "                d2 = Side.NONE\n",
    "            segs_by_col[p1.x].append(Segment(d1, xmin, d2, xmax, n+'['+str(i)+']'))\n",
    "        if d == Side.BOTTOM:\n",
    "            xmin = p1.y\n",
    "            xmax = p2.y\n",
    "            if i>0:\n",
    "                d2 = opposites[rotate[prev_d]]\n",
    "            else:\n",
    "                d2 = Side.NONE\n",
    "            if seg is not segs[-1]:\n",
    "                d1 = rotate[next_d]\n",
    "            else:\n",
    "                d1 = Side.NONE\n",
    "            segs_by_col[p1.x].append(Segment(d1, xmin, d2, xmax, n+'['+str(i)+']'))\n",
    "all_chans = []\n",
    "solver = z3.Optimize()\n",
    "crossings = z3.Int('crossings')\n",
    "cross_conds = []\n",
    "for row, segs in segs_by_row.items():\n",
    "    for seg in segs:\n",
    "        seg.chan = z3.Int(seg.name+'.chan')\n",
    "        solver.add(seg.chan > -1)\n",
    "        all_chans.append(seg.chan)\n",
    "    for s in segs:\n",
    "        for s2 in segs:\n",
    "            if s is s2:\n",
    "                continue\n",
    "            if s.xmin >= s2.xmin and s.xmin <= s2.xmax:\n",
    "                solver.add(z3.Distinct(s.chan, s2.chan))\n",
    "                if s.dir1 == Side.TOP:\n",
    "                    cross_conds.append(z3.If(s.chan > s2.chan, 1, 0))\n",
    "                elif s.dir1 == Side.BOTTOM:\n",
    "                    cross_conds.append(z3.If(s.chan < s2.chan, 1, 0))\n",
    "            # s.xmax overlaps with s2\n",
    "            if s.xmax >= s2.xmin and s.xmax <= s2.xmax:\n",
    "                solver.add(z3.Distinct(s.chan, s2.chan))\n",
    "                if s.dir2 == Side.TOP:\n",
    "                    cross_conds.append(z3.If(s.chan > s2.chan, 1, 0))\n",
    "                elif s.dir2 == Side.BOTTOM:\n",
    "                    cross_conds.append(z3.If(s.chan < s2.chan, 1, 0))\n",
    "for col, segs in segs_by_col.items():\n",
    "    for seg in segs:\n",
    "        seg.chan = z3.Int(seg.name+'.chan')\n",
    "        solver.add(seg.chan > -1)\n",
    "        all_chans.append(seg.chan)\n",
    "    for s in segs:\n",
    "        for s2 in segs:\n",
    "            if s is s2:\n",
    "                continue\n",
    "            if s.xmin >= s2.xmin and s.xmin <= s2.xmax:\n",
    "                solver.add(z3.Distinct(s.chan, s2.chan))\n",
    "                if s.dir1 == Side.TOP:\n",
    "                    cross_conds.append(z3.If(s.chan > s2.chan, 1, 0))\n",
    "                elif s.dir1 == Side.BOTTOM:\n",
    "                    cross_conds.append(z3.If(s.chan < s2.chan, 1, 0))\n",
    "            # s.xmax overlaps with s2\n",
    "            if s.xmax >= s2.xmin and s.xmax <= s2.xmax:\n",
    "                solver.add(z3.Distinct(s.chan, s2.chan))\n",
    "                if s.dir2 == Side.TOP:\n",
    "                    cross_conds.append(z3.If(s.chan > s2.chan, 1, 0))\n",
    "                elif s.dir2 == Side.BOTTOM:\n",
    "                    cross_conds.append(z3.If(s.chan < s2.chan, 1, 0))\n",
    "solver.minimize(z3.Sum(cross_conds) + z3.Sum(all_chans))\n",
    "\n",
    "solver.check()\n",
    "solution = solver.model()\n",
    "best_solution = {str(s):solution[s].as_long() for s in solution}\n",
    "best_solution\n",
    "for edge in edges:\n",
    "    n = edge['source_node'] + '.'+str(edge['source_port_index']) +'=>'+edge['dest_node'] + '.'+str(edge['dest_port_index'])\n",
    "    chans = sorted([(k,v) for k, v in best_solution.items() if k.startswith(n)])\n",
    "    chans = [x[1] for x in chans]\n",
    "    edge['chans'] = chans\n",
    "best_solution"
   ]
  },
  {
   "cell_type": "code",
   "execution_count": 15,
   "metadata": {},
   "outputs": [
    {
     "name": "stdout",
     "output_type": "stream",
     "text": [
      "[Position(x=1, y=0), Position(x=1, y=1), Position(x=3, y=1), Position(x=3, y=0)] [2, 0, 0, 0, 0]\n",
      "[] [0]\n",
      "[Position(x=1, y=0), Position(x=1, y=2)] [1, 1, 0]\n"
     ]
    },
    {
     "data": {
      "image/svg+xml": [
       "<svg height=\"220\" version=\"1.1\" width=\"400\" xmlns=\"http://www.w3.org/2000/svg\"><style>rect {fill: gray; stroke: black;} line {stroke: black;}</style><rect height=\"30\" width=\"30\" x=\"20\" y=\"20\"/><text text-anchor=\"middle\" x=\"35\" y=\"18\">A</text><rect height=\"30\" width=\"30\" x=\"140\" y=\"20\"/><text text-anchor=\"middle\" x=\"155\" y=\"18\">B</text><rect height=\"30\" width=\"30\" x=\"80\" y=\"20\"/><text text-anchor=\"middle\" x=\"95\" y=\"18\">C</text><rect height=\"30\" width=\"30\" x=\"80\" y=\"80\"/><text text-anchor=\"middle\" x=\"95\" y=\"78\">D</text><line x1=\"50\" x2=\"65\" y1=\"45.0\" y2=\"45\"/><line x1=\"65\" x2=\"65\" y1=\"45\" y2=\"65\"/><line x1=\"65\" x2=\"125\" y1=\"65\" y2=\"65\"/><line x1=\"125\" x2=\"125\" y1=\"65\" y2=\"35\"/><line x1=\"125\" x2=\"140\" y1=\"35\" y2=\"35.0\"/><line x1=\"50\" x2=\"80\" y1=\"35.0\" y2=\"35.0\"/><line x1=\"50\" x2=\"65\" y1=\"40.0\" y2=\"40\"/><line x1=\"70\" x2=\"70\" y1=\"40\" y2=\"95\"/><line x1=\"70\" x2=\"80\" y1=\"95\" y2=\"95.0\"/><line stroke-dasharray=\"4 8\" x1=\"20\" x2=\"20\" y1=\"5.0\" y2=\"185.0\"/><line stroke-dasharray=\"4 8\" x1=\"50\" x2=\"50\" y1=\"5.0\" y2=\"185.0\"/><line stroke-dasharray=\"4 8\" x1=\"80\" x2=\"80\" y1=\"5.0\" y2=\"185.0\"/><line stroke-dasharray=\"4 8\" x1=\"110\" x2=\"110\" y1=\"5.0\" y2=\"185.0\"/><line stroke-dasharray=\"4 8\" x1=\"140\" x2=\"140\" y1=\"5.0\" y2=\"185.0\"/><line stroke-dasharray=\"4 8\" x1=\"170\" x2=\"170\" y1=\"5.0\" y2=\"185.0\"/><line stroke-dasharray=\"4 8\" x1=\"200\" x2=\"200\" y1=\"5.0\" y2=\"185.0\"/><line stroke-dasharray=\"4 8\" x1=\"230\" x2=\"230\" y1=\"5.0\" y2=\"185.0\"/><line stroke-dasharray=\"4 8\" x1=\"260\" x2=\"260\" y1=\"5.0\" y2=\"185.0\"/><line stroke-dasharray=\"4 8\" x1=\"290\" x2=\"290\" y1=\"5.0\" y2=\"185.0\"/><line stroke-dasharray=\"4 8\" x1=\"320\" x2=\"320\" y1=\"5.0\" y2=\"185.0\"/><line stroke-dasharray=\"4 8\" x1=\"350\" x2=\"350\" y1=\"5.0\" y2=\"185.0\"/><line stroke-dasharray=\"4 8\" x1=\"5.0\" x2=\"365.0\" y1=\"20\" y2=\"20\"/><line stroke-dasharray=\"4 8\" x1=\"5.0\" x2=\"365.0\" y1=\"50\" y2=\"50\"/><line stroke-dasharray=\"4 8\" x1=\"5.0\" x2=\"365.0\" y1=\"80\" y2=\"80\"/><line stroke-dasharray=\"4 8\" x1=\"5.0\" x2=\"365.0\" y1=\"110\" y2=\"110\"/><line stroke-dasharray=\"4 8\" x1=\"5.0\" x2=\"365.0\" y1=\"140\" y2=\"140\"/><line stroke-dasharray=\"4 8\" x1=\"5.0\" x2=\"365.0\" y1=\"170\" y2=\"170\"/></svg>"
      ],
      "text/plain": [
       "<IPython.core.display.SVG object>"
      ]
     },
     "metadata": {},
     "output_type": "display_data"
    },
    {
     "name": "stdout",
     "output_type": "stream",
     "text": [
      "[Position(x=1, y=0), Position(x=1, y=1), Position(x=3, y=1), Position(x=3, y=0)] [2, 0, 0, 0, 0]\n",
      "[] [0]\n",
      "[Position(x=1, y=0), Position(x=1, y=2)] [1, 1, 0]\n"
     ]
    },
    {
     "data": {
      "image/svg+xml": [
       "<svg height=\"220\" version=\"1.1\" width=\"400\" xmlns=\"http://www.w3.org/2000/svg\"><style>rect {fill: gray; stroke: black;} line {stroke: black;}</style><rect height=\"30\" width=\"30\" x=\"20\" y=\"20\"/><text text-anchor=\"middle\" x=\"35\" y=\"18\">A</text><rect height=\"30\" width=\"30\" x=\"140\" y=\"20\"/><text text-anchor=\"middle\" x=\"155\" y=\"18\">B</text><rect height=\"30\" width=\"30\" x=\"80\" y=\"20\"/><text text-anchor=\"middle\" x=\"95\" y=\"18\">C</text><rect height=\"30\" width=\"30\" x=\"80\" y=\"80\"/><text text-anchor=\"middle\" x=\"95\" y=\"78\">D</text><line x1=\"50\" x2=\"65\" y1=\"45.0\" y2=\"45\"/><line x1=\"65\" x2=\"65\" y1=\"45\" y2=\"65\"/><line x1=\"65\" x2=\"125\" y1=\"65\" y2=\"65\"/><line x1=\"125\" x2=\"125\" y1=\"65\" y2=\"35\"/><line x1=\"125\" x2=\"140\" y1=\"35\" y2=\"35.0\"/><line x1=\"50\" x2=\"80\" y1=\"35.0\" y2=\"35.0\"/><line x1=\"50\" x2=\"65\" y1=\"40.0\" y2=\"40\"/><line x1=\"70\" x2=\"70\" y1=\"40\" y2=\"95\"/><line x1=\"70\" x2=\"80\" y1=\"95\" y2=\"95.0\"/></svg>"
      ],
      "text/plain": [
       "<IPython.core.display.SVG object>"
      ]
     },
     "metadata": {},
     "output_type": "display_data"
    },
    {
     "data": {
      "text/plain": [
       "<__main__.SvgNodePortGraph at 0x109a0fbe0>"
      ]
     },
     "execution_count": 15,
     "metadata": {},
     "output_type": "execute_result"
    }
   ],
   "source": [
    "SvgNodePortGraph(nodes, edges, grid=True)\n",
    "SvgNodePortGraph(nodes, edges)"
   ]
  },
  {
   "cell_type": "code",
   "execution_count": null,
   "metadata": {},
   "outputs": [],
   "source": []
  }
 ],
 "metadata": {
  "kernelspec": {
   "display_name": "Python 3",
   "language": "python",
   "name": "python3"
  },
  "language_info": {
   "codemirror_mode": {
    "name": "ipython",
    "version": 3
   },
   "file_extension": ".py",
   "mimetype": "text/x-python",
   "name": "python",
   "nbconvert_exporter": "python",
   "pygments_lexer": "ipython3",
   "version": "3.7.2"
  }
 },
 "nbformat": 4,
 "nbformat_minor": 2
}
