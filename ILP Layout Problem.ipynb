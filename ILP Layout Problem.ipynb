{
 "cells": [
  {
   "cell_type": "markdown",
   "metadata": {},
   "source": [
    "# Using Integer Linear Programming for Directed Graph Layout\n",
    "One difficult problem in data visualization is directed graph layout. Directed graph layout techniques have been extensively studied and numerous academic papers have been published on the subject. Some of the popular papers were authored by Sugiyama and Gansner. An old, but still quite popular tool for laying out directed graphs is GraphViz. A newer tool developed by Kiel University is ELK (Eclipse Layout Kernel). There are several variations but the overall concept is to assign the nodes layers such that as many edges as possible are pointing downstream. After the nodes are assigned layers, their positions within the layer are swapped to minimize edge crossings usually by moving them toward nodes they are connected to. All of these techniques are designed to minimize edge length, edge crossings, and backward edges and total graph area.\n",
    "\n",
    "Directed graphs in this context means that we have a set of nodes and a set of edges that point from one node source to one node destination. Some of these types of graphs also have node ports that edges connect to. Sometimes the port positions have a fixed position on the node, sometimes the ports are movable or swappable. Some of these types of graphs support hyper edges which are edges with zero or more sources and zero or more destinations(instead of one to one). Usually the preferred edge routing method is orthogonal, where the edges can only travel horizontally or vertically. Some implementations alos support bezier curves.\n",
    "\n",
    "Most of the published techniques for directed graph layout rely on a particular direction of flow (left to right or top to bottom). While some of the tools (like GraphViz) utilizing these techniques support fixed port positions, when ports are on the wrong side of the flow direction, the graph layout can be very poor. Also, some graphs have domain specific conventions for flow direction which makes layered graph techniques more complex to implement properly.\n",
    "\n",
    "Also, additional structures in the graph such as subgraphs can make the layout algorithms even more complicated.\n",
    "\n",
    "This notebook demonstrates how we can simplify layout algorithms by formulating our rules mathematically as a set of constraints and a cost function and allowing an off-the-shelf ILP solver to efficiently find the optimal solution. It also demonstrates a layout that doesn't have a single flow direction. The edge port sides define the direction of each edge.\n",
    "\n",
    "In this example, we will by using Google's ortools constraint solver, but the process is pretty similar for most solvers."
   ]
  },
  {
   "cell_type": "code",
   "execution_count": null,
   "metadata": {},
   "outputs": [],
   "source": [
    "# python3 built-in\n",
    "from collections import namedtuple\n",
    "import xml.etree.ElementTree as ET\n",
    "from enum import Enum\n",
    "\n",
    "# 3rd party dependencies\n",
    "from IPython.display import SVG, display\n",
    "from ortools.constraint_solver import pywrapcp"
   ]
  },
  {
   "cell_type": "markdown",
   "metadata": {},
   "source": [
    "Here we define some simple objects to encode our information. We use `Position` both for logical position (grid positioning) as well as visualization position (svg drawing units). We use `Dimension` for widths and heights. We use `Side` for defining which side of the node a port is locked to."
   ]
  },
  {
   "cell_type": "code",
   "execution_count": 2,
   "metadata": {},
   "outputs": [],
   "source": [
    "# both of these are two integers\n",
    "Position = namedtuple(\"Position\", \"x y\")\n",
    "Dimension = namedtuple(\"Dim\", \"width height\")\n",
    "\n",
    "# defines which side of a node an edge should connect to\n",
    "class Side(Enum):\n",
    "    TOP = 1\n",
    "    BOTTOM = 2\n",
    "    LEFT = 3\n",
    "    RIGHT = 4"
   ]
  },
  {
   "cell_type": "markdown",
   "metadata": {},
   "source": [
    "Here we define an example data set of a handful of nodes and edges between them."
   ]
  },
  {
   "cell_type": "code",
   "execution_count": 3,
   "metadata": {},
   "outputs": [],
   "source": [
    "# node positions must be within the domain\n",
    "domain = Dimension(5, 5)\n",
    "# enumerate some nodes\n",
    "nodes = {\n",
    "    'A':{'ports':[{'side':Side.RIGHT},{'side':Side.BOTTOM}]},\n",
    "    'B':{'ports':[{'side':Side.TOP },{'side':Side.RIGHT}]},\n",
    "    'C':{'ports':[{'side':Side.LEFT}]},\n",
    "    'D':{'ports':[{'side':Side.LEFT}]},\n",
    "    'E':{'ports':[{'side':Side.RIGHT}]}\n",
    "}\n",
    "\n",
    "# enumerate some edges\n",
    "edges = [\n",
    "    {'source_node':'A', 'source_port_index':0, 'dest_node':'B', 'dest_port_index':0},\n",
    "    {'source_node':'A', 'source_port_index':1, 'dest_node':'C', 'dest_port_index':0},\n",
    "    {'source_node':'B', 'source_port_index':1, 'dest_node':'D', 'dest_port_index':0},\n",
    "    {'source_node':'E', 'source_port_index':0, 'dest_node':'A', 'dest_port_index':1},\n",
    "    {'source_node':'A', 'source_port_index':0, 'dest_node':'D', 'dest_port_index':0}\n",
    "]"
   ]
  },
  {
   "cell_type": "markdown",
   "metadata": {},
   "source": [
    "If the input dataset has edges following ports into a cycle, then we can tag edges as \"reversed\"."
   ]
  },
  {
   "cell_type": "code",
   "execution_count": 4,
   "metadata": {},
   "outputs": [],
   "source": [
    "# TODO: Eliminate Cycles"
   ]
  },
  {
   "cell_type": "code",
   "execution_count": 5,
   "metadata": {},
   "outputs": [],
   "source": [
    "solver = pywrapcp.Solver(\"layout_problem\")\n",
    "\n",
    "# create all variables\n",
    "for nodeName in nodes.keys():\n",
    "    nodes[nodeName]['x'] = solver.IntVar(0, domain.width - 1, nodeName+'.x')\n",
    "    nodes[nodeName]['y'] = solver.IntVar(0, domain.height - 1, nodeName+'.y')\n",
    "allvars = [v['x'] for k,v in nodes.items()] + [v['y'] for k,v in nodes.items()]\n",
    "\n",
    "# define our objective variable\n",
    "obj_expr = solver.IntVar(0, len(edges) * domain.width * domain.height, \"obj_expr\")\n"
   ]
  },
  {
   "cell_type": "code",
   "execution_count": 6,
   "metadata": {},
   "outputs": [],
   "source": [
    "# Constraint 1: no two nodes can occupy the same position\n",
    "solver.Add(solver.AllDifferent([v['x'] + v['y'] * domain.width for k,v in nodes.items()]))"
   ]
  },
  {
   "cell_type": "code",
   "execution_count": 7,
   "metadata": {},
   "outputs": [],
   "source": [
    "def constrainEdge(fromnode, tonode, side):\n",
    "    if side == Side.TOP:\n",
    "        solver.Add(fromnode['y'] > tonode['y'])\n",
    "    elif side == Side.BOTTOM:\n",
    "        solver.Add(fromnode['y'] < tonode['y'])\n",
    "    elif side == Side.LEFT:\n",
    "        solver.Add(fromnode['x'] > tonode['x'])\n",
    "    else:\n",
    "        solver.Add(fromnode['x'] < tonode['x'])\n",
    "\n",
    "        \n",
    "# collect the ports and sides for each edge\n",
    "# and constrain the node positions and\n",
    "# build up the cost function\n",
    "edge_costs = []\n",
    "for e in edges:\n",
    "    snode = nodes[e['source_node']]\n",
    "    dnode = nodes[e['dest_node']]\n",
    "    sside = snode['ports'][e['source_port_index']]['side']\n",
    "    constrainEdge(snode, dnode, sside)\n",
    "    dside = dnode['ports'][e['dest_port_index']]['side']\n",
    "    constrainEdge(dnode, snode, dside)\n",
    "    edge_costs.append(abs(snode['x'] - dnode['x']) + abs(snode['y'] - dnode['y']))\n",
    "\n",
    "# finish defining the objectivie function: minimize cost\n",
    "solver.Add(obj_expr == solver.Sum(edge_costs))\n",
    "objective = solver.Minimize(obj_expr, 1)"
   ]
  },
  {
   "cell_type": "code",
   "execution_count": 8,
   "metadata": {},
   "outputs": [],
   "source": [
    "# collect the solution with the best objective\n",
    "collector = solver.LastSolutionCollector()\n",
    "collector.Add(allvars)\n",
    "collector.AddObjective(obj_expr)\n",
    "db = solver.Phase(allvars, solver.CHOOSE_FIRST_UNBOUND, solver.ASSIGN_MIN_VALUE)\n",
    "if solver.Solve(db, [objective, collector]) and collector.SolutionCount() > 0:\n",
    "    best_solution_index = collector.SolutionCount() - 1\n",
    "    best_solution = collector.Solution(best_solution_index)\n",
    "else:\n",
    "    print('no solution found')"
   ]
  },
  {
   "cell_type": "code",
   "execution_count": 9,
   "metadata": {},
   "outputs": [],
   "source": [
    "# put the solution back into our nodes structure\n",
    "for node_name, n in nodes.items():\n",
    "    n['pos'] = Position(best_solution.Value(n['x']),best_solution.Value(n['y']))"
   ]
  },
  {
   "cell_type": "code",
   "execution_count": 10,
   "metadata": {},
   "outputs": [],
   "source": [
    "# TODO: Add dummy nodes"
   ]
  },
  {
   "cell_type": "code",
   "execution_count": 11,
   "metadata": {},
   "outputs": [
    {
     "data": {
      "image/svg+xml": [
       "<svg height=\"340\" version=\"1.1\" width=\"340\" xmlns=\"http://www.w3.org/2000/svg\"><style>rect {fill: gray; stroke: black;} line {stroke: black;}</style><marker id=\"arrow\" markerHeight=\"10\" markerUnits=\"strokeWidth\" markerWidth=\"10\" orient=\"auto\" refX=\"9\" refY=\"3\"><path d=\"M0,0 L0,6 L9,3 z\"/></marker><rect height=\"30\" width=\"30\" x=\"80\" y=\"20\"/><text text-anchor=\"middle\" x=\"95.0\" y=\"18\">A</text><rect height=\"30\" width=\"30\" x=\"140\" y=\"80\"/><text text-anchor=\"middle\" x=\"155.0\" y=\"78\">B</text><rect height=\"30\" width=\"30\" x=\"140\" y=\"140\"/><text text-anchor=\"middle\" x=\"155.0\" y=\"138\">C</text><rect height=\"30\" width=\"30\" x=\"200\" y=\"20\"/><text text-anchor=\"middle\" x=\"215.0\" y=\"18\">D</text><rect height=\"30\" width=\"30\" x=\"20\" y=\"80\"/><text text-anchor=\"middle\" x=\"35.0\" y=\"78\">E</text><line marker-end=\"url(#arrow)\" x1=\"110\" x2=\"155.0\" y1=\"35.0\" y2=\"80\"/><line marker-end=\"url(#arrow)\" x1=\"95.0\" x2=\"140\" y1=\"50\" y2=\"155.0\"/><line marker-end=\"url(#arrow)\" x1=\"170\" x2=\"200\" y1=\"95.0\" y2=\"35.0\"/><line marker-end=\"url(#arrow)\" x1=\"50\" x2=\"95.0\" y1=\"95.0\" y2=\"50\"/><line marker-end=\"url(#arrow)\" x1=\"110\" x2=\"200\" y1=\"35.0\" y2=\"35.0\"/></svg>"
      ],
      "text/plain": [
       "<IPython.core.display.SVG object>"
      ]
     },
     "metadata": {},
     "output_type": "display_data"
    }
   ],
   "source": [
    "\n",
    "class SvgNodePortGraph:\n",
    "    \"\"\"\n",
    "    draws nodes and edges to notebook using SVG\n",
    "    nodes are just names and Positions\n",
    "    edges are just Positions and Sides\n",
    "    \"\"\"\n",
    "    \n",
    "    # The spacing between the outermost nodes and the edge of the SVG drawing area\n",
    "    margin = Dimension(20, 20)\n",
    "    \n",
    "    # distance from top-left corner to top-left corner\n",
    "    spacing = Dimension(60, 60)\n",
    "    \n",
    "    # node size\n",
    "    noded = Dimension(30, 30)\n",
    "    \n",
    "    # size of the svg drawing area\n",
    "    svg_dims = Dimension(\n",
    "        width=domain.width * spacing.width + 2 * margin.width,\n",
    "        height=domain.height * spacing.height + 2 * margin.height)\n",
    "    \n",
    "    def _map_to_coords(self, pos):\n",
    "        \"\"\" map logical coordinates to SVG coordinates \"\"\"\n",
    "        return Position(\n",
    "            pos.x * self.spacing.width + self.margin.width,\n",
    "            pos.y * self.spacing.height + self.margin.height)\n",
    "    \n",
    "    def __init__(self):\n",
    "        self.svg = ET.Element(\n",
    "            'svg',\n",
    "            xmlns=\"http://www.w3.org/2000/svg\",\n",
    "            version=\"1.1\",\n",
    "            height=\"%s\" % self.svg_dims.height,\n",
    "            width=\"%s\" % self.svg_dims.width)\n",
    "        style = ET.SubElement(self.svg,\"style\")\n",
    "        style.text = \"rect {fill: gray; stroke: black;} line {stroke: black;}\" \n",
    "        marker = ET.SubElement(\n",
    "            self.svg,\n",
    "            \"marker\",\n",
    "            id=\"arrow\",\n",
    "            markerWidth=\"10\",\n",
    "            markerHeight=\"10\",\n",
    "            refX=\"9\",\n",
    "            refY=\"3\",\n",
    "            orient=\"auto\",\n",
    "            markerUnits=\"strokeWidth\")\n",
    "        ET.SubElement(marker, \"path\", d=\"M0,0 L0,6 L9,3 z\")\n",
    "        \n",
    "    def drawbox(self, name, pos):\n",
    "        \"\"\"adds a new node to the graph\"\"\"\n",
    "        npos = self._map_to_coords(pos)\n",
    "        tpos = Position(npos.x + self.noded.width/2, npos.y - 2)\n",
    "        ET.SubElement(\n",
    "            self.svg,\n",
    "            \"rect\",\n",
    "            width=str(self.noded.width),\n",
    "            height=str(self.noded.height),\n",
    "            x=str(npos.x),\n",
    "            y=str(npos.y))\n",
    "        t = ET.SubElement(self.svg, \"text\", x=str(tpos.x), y=str(tpos.y))\n",
    "        t.set(\"text-anchor\",\"middle\")\n",
    "        t.text = name\n",
    "    \n",
    "    def _pos_adjust_side(self, pos, side):\n",
    "        \"\"\" goes from a node position to a side position \"\"\"\n",
    "        adjustments = {\n",
    "            Side.TOP:Position(self.noded.width/2, 0),\n",
    "            Side.BOTTOM:Position(self.noded.width/2, self.noded.height),\n",
    "            Side.LEFT:Position(0, self.noded.height/2),\n",
    "            Side.RIGHT:Position(self.noded.width, self.noded.height/2)\n",
    "        }\n",
    "        a = adjustments[side]\n",
    "        return Position(pos.x+ a.x, pos.y+a.y)\n",
    "    \n",
    "    def drawedge(self, source_pos, source_side, dest_pos, dest_side):\n",
    "        \"\"\" adds a new edge to the graph \"\"\"\n",
    "        spos = self._pos_adjust_side(self._map_to_coords(source_pos), source_side)\n",
    "        dpos = self._pos_adjust_side(self._map_to_coords(dest_pos), dest_side)\n",
    "        l = ET.SubElement(\n",
    "            self.svg,\n",
    "            \"line\",\n",
    "            x1=str(spos.x),\n",
    "            x2=str(dpos.x),\n",
    "            y1=str(spos.y),\n",
    "            y2=str(dpos.y))\n",
    "        l.set(\"marker-end\",\"url(#arrow)\")\n",
    "    \n",
    "    def display(self):\n",
    "        \"\"\" displays the graph on the notebook \"\"\"\n",
    "        display(SVG(ET.tostring(self.svg)))\n",
    "\n",
    "graph = SvgNodePortGraph()\n",
    "for k,v in nodes.items():\n",
    "    graph.drawbox(k,v['pos'])\n",
    "\n",
    "for e in edges:\n",
    "    sname = e['source_node']\n",
    "    sside = nodes[sname]['ports'][e['source_port_index']]['side']\n",
    "    source_pos = nodes[sname]['pos']\n",
    "    dname = e['dest_node']\n",
    "    dside = nodes[dname]['ports'][e['dest_port_index']]['side']\n",
    "    dest_pos = nodes[dname]['pos']\n",
    "    graph.drawedge(source_pos, sside, dest_pos, dside)\n",
    "    \n",
    "graph.display()"
   ]
  }
 ],
 "metadata": {
  "kernelspec": {
   "display_name": "Python 3",
   "language": "python",
   "name": "python3"
  },
  "language_info": {
   "codemirror_mode": {
    "name": "ipython",
    "version": 3
   },
   "file_extension": ".py",
   "mimetype": "text/x-python",
   "name": "python",
   "nbconvert_exporter": "python",
   "pygments_lexer": "ipython3",
   "version": "3.6.4"
  }
 },
 "nbformat": 4,
 "nbformat_minor": 2
}
