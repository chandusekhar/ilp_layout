{
 "cells": [
  {
   "cell_type": "markdown",
   "metadata": {},
   "source": [
    "# Path Finding with Z3\n",
    "This notebook demonstrates using a solver like Z3 to do path finding. It is not the most efficient way to solve a maze but traditional algorithms such as Djikstra's and A* are challenging to adapt to variants such as multi-agent path finding."
   ]
  },
  {
   "cell_type": "code",
   "execution_count": 1,
   "metadata": {},
   "outputs": [],
   "source": [
    "import xml.etree.ElementTree as ET\n",
    "from dataclasses import dataclass\n",
    "\n",
    "# 3rd party dependencies\n",
    "from IPython.display import SVG, display\n",
    "import z3"
   ]
  },
  {
   "cell_type": "markdown",
   "metadata": {},
   "source": [
    "We will be displaying our solution by constructing the image in SVG using the builtin python module etree."
   ]
  },
  {
   "cell_type": "code",
   "execution_count": 2,
   "metadata": {},
   "outputs": [],
   "source": [
    "@dataclass\n",
    "class Dimension:\n",
    "    width: int\n",
    "    height: int\n",
    "\n",
    "def draw_solution(grid, node_pos):\n",
    "    # graphical dimension constants\n",
    "    grid_dim = Dimension(len(grid[0]),len(grid))\n",
    "    margin_dim = Dimension(3, 3)\n",
    "    node_dim = Dimension(30, 30)\n",
    "    svg_dims = Dimension(\n",
    "        grid_dim.width * node_dim.width + margin_dim.width + 1,\n",
    "        grid_dim.height * node_dim.height + margin_dim.height + 1)\n",
    "    \n",
    "    svg = ET.Element(\n",
    "        'svg',\n",
    "        xmlns=\"http://www.w3.org/2000/svg\",\n",
    "        version=\"1.1\",\n",
    "        height=str(svg_dims.height),\n",
    "        width=str(svg_dims.width))\n",
    "    style = ET.SubElement(\n",
    "        svg,\n",
    "        \"style\")\n",
    "    style.text =\"rect {fill: gray; stroke: black;} line {stroke: black}\"\n",
    "    \n",
    "    # draw dashed gray grid\n",
    "    for x in range(grid_dim.width + 1):\n",
    "        l = ET.SubElement(\n",
    "            svg,\n",
    "            'line',\n",
    "            x1=str(x*node_dim.width+margin_dim.width),\n",
    "            x2=str(x*node_dim.width+margin_dim.width),\n",
    "            y1=\"5\",\n",
    "            y2=str(svg_dims.height+margin_dim.height))\n",
    "        l.set('stroke-dasharray', '4 8')\n",
    "    for y in range(grid_dim.height + 1):\n",
    "        l = ET.SubElement(\n",
    "            svg,\n",
    "            'line',\n",
    "            x1=\"5\",\n",
    "            x2=str(svg_dims.width),\n",
    "            y1=str(y*node_dim.height+margin_dim.width),\n",
    "            y2=str(y*node_dim.height+margin_dim.width))\n",
    "        l.set('stroke-dasharray', '4 8')\n",
    "    # draw solution path in yellow\n",
    "    for node in node_pos:\n",
    "        ET.SubElement(\n",
    "            svg,\n",
    "            'rect',\n",
    "            x=str(node[0]*node_dim.width+margin_dim.width),\n",
    "            y=str(node[1]*node_dim.height+margin_dim.height),\n",
    "            width=str(node_dim.width),\n",
    "            height=str(node_dim.height),\n",
    "            style=\"fill:yellow\")\n",
    "    # draw barriers in gray\n",
    "    for y in range(grid_dim.height):\n",
    "        for x in range(grid_dim.width):\n",
    "            if grid[y][x] > 0:\n",
    "                ET.SubElement(\n",
    "                    svg,\n",
    "                    'rect',\n",
    "                    x=str(x*node_dim.width+margin_dim.width),\n",
    "                    y=str(y*node_dim.height+margin_dim.height),\n",
    "                    width=str(node_dim.width),\n",
    "                    height=str(node_dim.height))\n",
    "    display(SVG(ET.tostring(svg)))"
   ]
  },
  {
   "cell_type": "markdown",
   "metadata": {},
   "source": [
    "We will be formulating our path as a sequence of t_max positions where t_max is the maximum number of steps to the destination.\n",
    "\n",
    "* All positions must be on the grid\n",
    "* The first position must be in the top left corner\n",
    "* All positions can be no more than one step away from the previous position\n",
    "* No position may be on a barrier\n",
    "* score a point for each position on the destination\n",
    "\n",
    "Find the maximum score."
   ]
  },
  {
   "cell_type": "code",
   "execution_count": 3,
   "metadata": {},
   "outputs": [],
   "source": [
    "def solve_maze(grid, t_max):\n",
    "    grid_dim = Dimension(len(grid[0]),len(grid))\n",
    "    # preallocate array for z3 variables\n",
    "    xt = [None] * t_max\n",
    "    yt = [None] * t_max\n",
    "\n",
    "    solver = z3.Optimize()\n",
    "    score = []\n",
    "\n",
    "    # define an absolute value function\n",
    "    def zabs(x):\n",
    "        return z3.If(x >= 0, x, -x)\n",
    "\n",
    "    for t in range(t_max):\n",
    "        xt[t] = z3.Int('x[' + str(t) +']')\n",
    "        yt[t] = z3.Int('y[' + str(t) +']')\n",
    "\n",
    "        # pos must be within the grid\n",
    "        solver.add(xt[t] > -1)\n",
    "        solver.add(xt[t] < grid_dim.width)\n",
    "        solver.add(yt[t] > -1)\n",
    "        solver.add(yt[t] < grid_dim.height)\n",
    "\n",
    "        # the first pos must be the start\n",
    "        if t == 0:\n",
    "            solver.add(xt[t] == 0)\n",
    "            solver.add(yt[t] == 0)\n",
    "        else:\n",
    "            # pos must be one step away from previous\n",
    "            dx = zabs(xt[t] - xt[t-1])\n",
    "            dy = zabs(yt[t] - yt[t-1])\n",
    "            solver.add(dx + dy <= 1)\n",
    "\n",
    "        # no pos may be on a barrier\n",
    "        for y in range(grid_dim.height):\n",
    "            for x in range(grid_dim.width):\n",
    "                if grid[y][x] > 0:\n",
    "                    solver.add(z3.Or(xt[t] != x, yt[t]!=y))\n",
    "\n",
    "        # score a point for each pos on the destination\n",
    "        score.append(z3.If(z3.And(xt[t] == grid_dim.width-1, yt[t] == grid_dim.height-1), 1, 0))\n",
    "\n",
    "    solver.maximize(z3.Sum(score))\n",
    "    solver.check()\n",
    "    solution = solver.model()\n",
    "    best_solution = {str(s):solution[s].as_long() for s in solution}\n",
    "    node_pos = []\n",
    "    for t in range(t_max):\n",
    "        node_pos.append( (best_solution['x['+str(t)+']'], best_solution['y['+str(t)+']']))\n",
    "    return node_pos"
   ]
  },
  {
   "cell_type": "code",
   "execution_count": 4,
   "metadata": {},
   "outputs": [
    {
     "data": {
      "image/svg+xml": [
       "<svg height=\"94\" version=\"1.1\" width=\"94\" xmlns=\"http://www.w3.org/2000/svg\"><style>rect {fill: gray; stroke: black;} line {stroke: black}</style><line stroke-dasharray=\"4 8\" x1=\"3\" x2=\"3\" y1=\"5\" y2=\"97\"/><line stroke-dasharray=\"4 8\" x1=\"33\" x2=\"33\" y1=\"5\" y2=\"97\"/><line stroke-dasharray=\"4 8\" x1=\"63\" x2=\"63\" y1=\"5\" y2=\"97\"/><line stroke-dasharray=\"4 8\" x1=\"93\" x2=\"93\" y1=\"5\" y2=\"97\"/><line stroke-dasharray=\"4 8\" x1=\"5\" x2=\"94\" y1=\"3\" y2=\"3\"/><line stroke-dasharray=\"4 8\" x1=\"5\" x2=\"94\" y1=\"33\" y2=\"33\"/><line stroke-dasharray=\"4 8\" x1=\"5\" x2=\"94\" y1=\"63\" y2=\"63\"/><line stroke-dasharray=\"4 8\" x1=\"5\" x2=\"94\" y1=\"93\" y2=\"93\"/><rect height=\"30\" style=\"fill:yellow\" width=\"30\" x=\"3\" y=\"3\"/><rect height=\"30\" style=\"fill:yellow\" width=\"30\" x=\"3\" y=\"33\"/><rect height=\"30\" style=\"fill:yellow\" width=\"30\" x=\"33\" y=\"33\"/><rect height=\"30\" style=\"fill:yellow\" width=\"30\" x=\"63\" y=\"33\"/><rect height=\"30\" style=\"fill:yellow\" width=\"30\" x=\"63\" y=\"63\"/><rect height=\"30\" style=\"fill:yellow\" width=\"30\" x=\"63\" y=\"63\"/><rect height=\"30\" width=\"30\" x=\"33\" y=\"3\"/><rect height=\"30\" width=\"30\" x=\"33\" y=\"63\"/></svg>"
      ],
      "text/plain": [
       "<IPython.core.display.SVG object>"
      ]
     },
     "metadata": {},
     "output_type": "display_data"
    }
   ],
   "source": [
    "grid = [[0,1,0],\n",
    "        [0,0,0],\n",
    "        [0,1,0]]\n",
    "solution = solve_maze(grid, 6)\n",
    "draw_solution(grid, solution)"
   ]
  },
  {
   "cell_type": "code",
   "execution_count": 5,
   "metadata": {},
   "outputs": [
    {
     "data": {
      "image/svg+xml": [
       "<svg height=\"214\" version=\"1.1\" width=\"484\" xmlns=\"http://www.w3.org/2000/svg\"><style>rect {fill: gray; stroke: black;} line {stroke: black}</style><line stroke-dasharray=\"4 8\" x1=\"3\" x2=\"3\" y1=\"5\" y2=\"217\"/><line stroke-dasharray=\"4 8\" x1=\"33\" x2=\"33\" y1=\"5\" y2=\"217\"/><line stroke-dasharray=\"4 8\" x1=\"63\" x2=\"63\" y1=\"5\" y2=\"217\"/><line stroke-dasharray=\"4 8\" x1=\"93\" x2=\"93\" y1=\"5\" y2=\"217\"/><line stroke-dasharray=\"4 8\" x1=\"123\" x2=\"123\" y1=\"5\" y2=\"217\"/><line stroke-dasharray=\"4 8\" x1=\"153\" x2=\"153\" y1=\"5\" y2=\"217\"/><line stroke-dasharray=\"4 8\" x1=\"183\" x2=\"183\" y1=\"5\" y2=\"217\"/><line stroke-dasharray=\"4 8\" x1=\"213\" x2=\"213\" y1=\"5\" y2=\"217\"/><line stroke-dasharray=\"4 8\" x1=\"243\" x2=\"243\" y1=\"5\" y2=\"217\"/><line stroke-dasharray=\"4 8\" x1=\"273\" x2=\"273\" y1=\"5\" y2=\"217\"/><line stroke-dasharray=\"4 8\" x1=\"303\" x2=\"303\" y1=\"5\" y2=\"217\"/><line stroke-dasharray=\"4 8\" x1=\"333\" x2=\"333\" y1=\"5\" y2=\"217\"/><line stroke-dasharray=\"4 8\" x1=\"363\" x2=\"363\" y1=\"5\" y2=\"217\"/><line stroke-dasharray=\"4 8\" x1=\"393\" x2=\"393\" y1=\"5\" y2=\"217\"/><line stroke-dasharray=\"4 8\" x1=\"423\" x2=\"423\" y1=\"5\" y2=\"217\"/><line stroke-dasharray=\"4 8\" x1=\"453\" x2=\"453\" y1=\"5\" y2=\"217\"/><line stroke-dasharray=\"4 8\" x1=\"483\" x2=\"483\" y1=\"5\" y2=\"217\"/><line stroke-dasharray=\"4 8\" x1=\"5\" x2=\"484\" y1=\"3\" y2=\"3\"/><line stroke-dasharray=\"4 8\" x1=\"5\" x2=\"484\" y1=\"33\" y2=\"33\"/><line stroke-dasharray=\"4 8\" x1=\"5\" x2=\"484\" y1=\"63\" y2=\"63\"/><line stroke-dasharray=\"4 8\" x1=\"5\" x2=\"484\" y1=\"93\" y2=\"93\"/><line stroke-dasharray=\"4 8\" x1=\"5\" x2=\"484\" y1=\"123\" y2=\"123\"/><line stroke-dasharray=\"4 8\" x1=\"5\" x2=\"484\" y1=\"153\" y2=\"153\"/><line stroke-dasharray=\"4 8\" x1=\"5\" x2=\"484\" y1=\"183\" y2=\"183\"/><line stroke-dasharray=\"4 8\" x1=\"5\" x2=\"484\" y1=\"213\" y2=\"213\"/><rect height=\"30\" style=\"fill:yellow\" width=\"30\" x=\"3\" y=\"3\"/><rect height=\"30\" style=\"fill:yellow\" width=\"30\" x=\"33\" y=\"3\"/><rect height=\"30\" style=\"fill:yellow\" width=\"30\" x=\"63\" y=\"3\"/><rect height=\"30\" style=\"fill:yellow\" width=\"30\" x=\"63\" y=\"33\"/><rect height=\"30\" style=\"fill:yellow\" width=\"30\" x=\"63\" y=\"63\"/><rect height=\"30\" style=\"fill:yellow\" width=\"30\" x=\"93\" y=\"63\"/><rect height=\"30\" style=\"fill:yellow\" width=\"30\" x=\"123\" y=\"63\"/><rect height=\"30\" style=\"fill:yellow\" width=\"30\" x=\"123\" y=\"93\"/><rect height=\"30\" style=\"fill:yellow\" width=\"30\" x=\"123\" y=\"123\"/><rect height=\"30\" style=\"fill:yellow\" width=\"30\" x=\"123\" y=\"153\"/><rect height=\"30\" style=\"fill:yellow\" width=\"30\" x=\"153\" y=\"153\"/><rect height=\"30\" style=\"fill:yellow\" width=\"30\" x=\"153\" y=\"183\"/><rect height=\"30\" style=\"fill:yellow\" width=\"30\" x=\"183\" y=\"183\"/><rect height=\"30\" style=\"fill:yellow\" width=\"30\" x=\"213\" y=\"183\"/><rect height=\"30\" style=\"fill:yellow\" width=\"30\" x=\"213\" y=\"153\"/><rect height=\"30\" style=\"fill:yellow\" width=\"30\" x=\"213\" y=\"123\"/><rect height=\"30\" style=\"fill:yellow\" width=\"30\" x=\"213\" y=\"93\"/><rect height=\"30\" style=\"fill:yellow\" width=\"30\" x=\"213\" y=\"63\"/><rect height=\"30\" style=\"fill:yellow\" width=\"30\" x=\"213\" y=\"33\"/><rect height=\"30\" style=\"fill:yellow\" width=\"30\" x=\"213\" y=\"3\"/><rect height=\"30\" style=\"fill:yellow\" width=\"30\" x=\"243\" y=\"3\"/><rect height=\"30\" style=\"fill:yellow\" width=\"30\" x=\"273\" y=\"3\"/><rect height=\"30\" style=\"fill:yellow\" width=\"30\" x=\"303\" y=\"3\"/><rect height=\"30\" style=\"fill:yellow\" width=\"30\" x=\"333\" y=\"3\"/><rect height=\"30\" style=\"fill:yellow\" width=\"30\" x=\"333\" y=\"33\"/><rect height=\"30\" style=\"fill:yellow\" width=\"30\" x=\"333\" y=\"63\"/><rect height=\"30\" style=\"fill:yellow\" width=\"30\" x=\"333\" y=\"93\"/><rect height=\"30\" style=\"fill:yellow\" width=\"30\" x=\"333\" y=\"123\"/><rect height=\"30\" style=\"fill:yellow\" width=\"30\" x=\"363\" y=\"123\"/><rect height=\"30\" style=\"fill:yellow\" width=\"30\" x=\"393\" y=\"123\"/><rect height=\"30\" style=\"fill:yellow\" width=\"30\" x=\"393\" y=\"93\"/><rect height=\"30\" style=\"fill:yellow\" width=\"30\" x=\"423\" y=\"93\"/><rect height=\"30\" style=\"fill:yellow\" width=\"30\" x=\"453\" y=\"93\"/><rect height=\"30\" style=\"fill:yellow\" width=\"30\" x=\"453\" y=\"123\"/><rect height=\"30\" style=\"fill:yellow\" width=\"30\" x=\"453\" y=\"153\"/><rect height=\"30\" style=\"fill:yellow\" width=\"30\" x=\"453\" y=\"183\"/><rect height=\"30\" style=\"fill:yellow\" width=\"30\" x=\"453\" y=\"183\"/><rect height=\"30\" style=\"fill:yellow\" width=\"30\" x=\"453\" y=\"183\"/><rect height=\"30\" style=\"fill:yellow\" width=\"30\" x=\"453\" y=\"183\"/><rect height=\"30\" style=\"fill:yellow\" width=\"30\" x=\"453\" y=\"183\"/><rect height=\"30\" width=\"30\" x=\"183\" y=\"3\"/><rect height=\"30\" width=\"30\" x=\"363\" y=\"3\"/><rect height=\"30\" width=\"30\" x=\"33\" y=\"33\"/><rect height=\"30\" width=\"30\" x=\"93\" y=\"33\"/><rect height=\"30\" width=\"30\" x=\"123\" y=\"33\"/><rect height=\"30\" width=\"30\" x=\"183\" y=\"33\"/><rect height=\"30\" width=\"30\" x=\"243\" y=\"33\"/><rect height=\"30\" width=\"30\" x=\"303\" y=\"33\"/><rect height=\"30\" width=\"30\" x=\"363\" y=\"33\"/><rect height=\"30\" width=\"30\" x=\"423\" y=\"33\"/><rect height=\"30\" width=\"30\" x=\"33\" y=\"63\"/><rect height=\"30\" width=\"30\" x=\"153\" y=\"63\"/><rect height=\"30\" width=\"30\" x=\"243\" y=\"63\"/><rect height=\"30\" width=\"30\" x=\"303\" y=\"63\"/><rect height=\"30\" width=\"30\" x=\"363\" y=\"63\"/><rect height=\"30\" width=\"30\" x=\"423\" y=\"63\"/><rect height=\"30\" width=\"30\" x=\"453\" y=\"63\"/><rect height=\"30\" width=\"30\" x=\"33\" y=\"93\"/><rect height=\"30\" width=\"30\" x=\"93\" y=\"93\"/><rect height=\"30\" width=\"30\" x=\"153\" y=\"93\"/><rect height=\"30\" width=\"30\" x=\"273\" y=\"93\"/><rect height=\"30\" width=\"30\" x=\"363\" y=\"93\"/><rect height=\"30\" width=\"30\" x=\"63\" y=\"123\"/><rect height=\"30\" width=\"30\" x=\"153\" y=\"123\"/><rect height=\"30\" width=\"30\" x=\"243\" y=\"123\"/><rect height=\"30\" width=\"30\" x=\"423\" y=\"123\"/><rect height=\"30\" width=\"30\" x=\"33\" y=\"153\"/><rect height=\"30\" width=\"30\" x=\"93\" y=\"153\"/><rect height=\"30\" width=\"30\" x=\"183\" y=\"153\"/><rect height=\"30\" width=\"30\" x=\"243\" y=\"153\"/><rect height=\"30\" width=\"30\" x=\"303\" y=\"153\"/><rect height=\"30\" width=\"30\" x=\"333\" y=\"153\"/><rect height=\"30\" width=\"30\" x=\"393\" y=\"153\"/><rect height=\"30\" width=\"30\" x=\"123\" y=\"183\"/><rect height=\"30\" width=\"30\" x=\"243\" y=\"183\"/><rect height=\"30\" width=\"30\" x=\"423\" y=\"183\"/></svg>"
      ],
      "text/plain": [
       "<IPython.core.display.SVG object>"
      ]
     },
     "metadata": {},
     "output_type": "display_data"
    }
   ],
   "source": [
    "t_max = 40\n",
    "grid = [[0,0,0,0,0,0,1,0,0,0,0,0,1,0,0,0],\n",
    "        [0,1,0,1,1,0,1,0,1,0,1,0,1,0,1,0],\n",
    "        [0,1,0,0,0,1,0,0,1,0,1,0,1,0,1,1],\n",
    "        [0,1,0,1,0,1,0,0,0,1,0,0,1,0,0,0],\n",
    "        [0,0,1,0,0,1,0,0,1,0,0,0,0,0,1,0],\n",
    "        [0,1,0,1,0,0,1,0,1,0,1,1,0,1,0,0],\n",
    "        [0,0,0,0,1,0,0,0,1,0,0,0,0,0,1,0]]\n",
    "solution = solve_maze(grid, t_max)\n",
    "draw_solution(grid, solution)"
   ]
  },
  {
   "cell_type": "code",
   "execution_count": null,
   "metadata": {},
   "outputs": [],
   "source": []
  }
 ],
 "metadata": {
  "kernelspec": {
   "display_name": "Python 3",
   "language": "python",
   "name": "python3"
  },
  "language_info": {
   "codemirror_mode": {
    "name": "ipython",
    "version": 3
   },
   "file_extension": ".py",
   "mimetype": "text/x-python",
   "name": "python",
   "nbconvert_exporter": "python",
   "pygments_lexer": "ipython3",
   "version": "3.7.2"
  }
 },
 "nbformat": 4,
 "nbformat_minor": 2
}
