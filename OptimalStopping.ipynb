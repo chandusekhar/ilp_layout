{
 "cells": [
  {
   "cell_type": "markdown",
   "metadata": {},
   "source": [
    "# Optimal Stopping\n",
    "This demonstrates using Z3 for a simple Optimal Stopping problem. The rules of the game are\n",
    "\n",
    "* a miner produces one gold per unit of time\n",
    "* it costs 6 gold to buy a miner\n",
    "* you cannot ever have negative gold\n",
    "* you start with 6 gold and 0 miners\n",
    "* what is the maximum amount of gold you can get after 20 units of time?"
   ]
  },
  {
   "cell_type": "code",
   "execution_count": 1,
   "metadata": {},
   "outputs": [],
   "source": [
    "%matplotlib inline \n",
    "import matplotlib.pyplot as plt\n",
    "import z3"
   ]
  },
  {
   "cell_type": "markdown",
   "metadata": {},
   "source": [
    "To formulate this problem we use\n",
    "* `gold` is the z3 variables for how much gold we have at each unit of time\n",
    "* `miners` is just an array of expressions of how many workers we have at each unit of time\n",
    "* `miner_starts` is the start time of each miner"
   ]
  },
  {
   "cell_type": "code",
   "execution_count": 2,
   "metadata": {},
   "outputs": [],
   "source": [
    "# constants\n",
    "tmax = 20\n",
    "miner_cost = 6\n",
    "start_miners = 0\n",
    "start_gold = 6\n",
    "# we have to pick an upper bound on how many miners there can be\n",
    "max_miners = 6\n",
    "available_miners = max_miners - start_miners\n",
    "\n",
    "solver = z3.Solver()\n",
    "\n",
    "# the amount of gold at time t, gold[tmax-1] is the objective\n",
    "# these are dependent variables\n",
    "gold = [z3.Int('gold[%d]'%t) for t in range(tmax)]\n",
    "\n",
    "# we use this to hold expressions for the number of miners at time t\n",
    "miners = [None for t in range(tmax)]\n",
    "# the start time of each miner, these are the independent variables\n",
    "miner_starts = [z3.Int('miner_start[%s]'%n) for n in range(available_miners)]"
   ]
  },
  {
   "cell_type": "markdown",
   "metadata": {},
   "source": [
    "Miners must start between 0 and tmax (tmax means never).  For each time t, the gold is equal to the balance of gold in the previous unit of time plus the income of how many miners we currently have plus the amount we paid to buy any more miners."
   ]
  },
  {
   "cell_type": "code",
   "execution_count": 3,
   "metadata": {},
   "outputs": [],
   "source": [
    "for i, miner_start in enumerate(miner_starts):\n",
    "    # miner start times should be in ascending order\n",
    "    if i>0:\n",
    "        solver.add(miner_start >= miner_starts[i-1])\n",
    "    # start time of tmax means never started\n",
    "    solver.add(miner_start > 0, miner_start < tmax + 1)\n",
    "\n",
    "\n",
    "solver.add(gold[0] == start_gold)\n",
    "for t in range(tmax):\n",
    "    miners[t] = start_miners + z3.Sum([z3.If(t > m, 1, 0) for m in miner_starts])\n",
    "    if t > 0:\n",
    "        solver.add(gold[t] > -1)\n",
    "        purchase_costs = []\n",
    "        for m in miner_starts:\n",
    "            purchase_costs.append(z3.If(t == m, miner_cost, 0))\n",
    "        balance = gold[t-1]\n",
    "        income = miners[t]\n",
    "        solver.add(gold[t] == balance + income - z3.Sum(purchase_costs))\n"
   ]
  },
  {
   "cell_type": "code",
   "execution_count": 4,
   "metadata": {},
   "outputs": [],
   "source": [
    "# start with a very achievable goal\n",
    "# and slowly increase it\n",
    "goal = start_gold\n",
    "while True:\n",
    "    solver.push()\n",
    "    solver.add(gold[tmax-1] > goal)\n",
    "    s = solver.check()\n",
    "    if s != z3.sat:\n",
    "        break\n",
    "    prev_model = solver.model()\n",
    "    goal = prev_model[gold[tmax-1]]\n",
    "    solver.pop()"
   ]
  },
  {
   "cell_type": "code",
   "execution_count": 6,
   "metadata": {},
   "outputs": [],
   "source": [
    "# clean up data for easily visualization\n",
    "solution = {str(s): prev_model[s].as_long() for s in prev_model}\n",
    "golds = [solution['gold[%d]'%t] for t in range(tmax)]\n",
    "miners_startss = [solution['miner_start[%d]'%x] for x in range(available_miners) if solution['miner_start[%d]'%x] != tmax]\n",
    "current_miners = [len([y for y in filter(lambda x:x<t, miners_startss)]) for t in range(tmax)]"
   ]
  },
  {
   "cell_type": "code",
   "execution_count": 13,
   "metadata": {},
   "outputs": [
    {
     "name": "stdout",
     "output_type": "stream",
     "text": [
      "max gold: 28\n",
      "max miners: 4\n"
     ]
    },
    {
     "data": {
      "image/png": "[encoded data removed]",
      "text/plain": [
       "<Figure size 432x288 with 1 Axes>"
      ]
     },
     "metadata": {
      "needs_background": "light"
     },
     "output_type": "display_data"
    },
    {
     "data": {
      "image/png": "[encoded data removed]",
      "text/plain": [
       "<Figure size 432x288 with 1 Axes>"
      ]
     },
     "metadata": {
      "needs_background": "light"
     },
     "output_type": "display_data"
    }
   ],
   "source": [
    "plt.grid(True)\n",
    "plt.plot(current_miners, drawstyle='steps-post')\n",
    "plt.ylabel('miners')\n",
    "plt.figure(2)\n",
    "plt.grid(True)\n",
    "plt.plot(golds, drawstyle='steps-post')\n",
    "plt.ylabel('gold');\n",
    "print('max gold:', golds[-1])\n",
    "print('max miners:', current_miners[-1])"
   ]
  },
  {
   "cell_type": "code",
   "execution_count": null,
   "metadata": {},
   "outputs": [],
   "source": []
  }
 ],
 "metadata": {
  "kernelspec": {
   "display_name": "Python 3",
   "language": "python",
   "name": "python3"
  },
  "language_info": {
   "codemirror_mode": {
    "name": "ipython",
    "version": 3
   },
   "file_extension": ".py",
   "mimetype": "text/x-python",
   "name": "python",
   "nbconvert_exporter": "python",
   "pygments_lexer": "ipython3",
   "version": "3.7.2"
  }
 },
 "nbformat": 4,
 "nbformat_minor": 2
}
